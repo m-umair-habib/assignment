{
 "cells": [
  {
   "cell_type": "markdown",
   "id": "24aeece3-e9af-4604-baef-786dc8691956",
   "metadata": {},
   "source": [
    "# Data Science Tools and Ecosystem"
   ]
  },
  {
   "cell_type": "code",
   "execution_count": null,
   "id": "f72d2e73-e99a-471a-bb9f-5033c5f84cb2",
   "metadata": {},
   "outputs": [],
   "source": []
  },
  {
   "cell_type": "markdown",
   "id": "d530dae7-6a2a-4b54-8279-746d9c3ba425",
   "metadata": {},
   "source": [
    "## Introduction\n",
    "\n",
    "This notebook serves as the final project for the course **Tools for Data Science**.  \n",
    "It contains a list of popular languages, libraries, and tools used in data science,  \n",
    "along with simple examples of arithmetic operations in Python.  \n",
    "The goal is to demonstrate basic skills in using JupyterLite Notebook with both Markdown and code cells."
   ]
  },
  {
   "cell_type": "code",
   "execution_count": null,
   "id": "4c5543e9-c5b1-469b-9c0e-205a52eaee07",
   "metadata": {},
   "outputs": [],
   "source": []
  },
  {
   "cell_type": "markdown",
   "id": "e9431a21-6cf9-4b64-9b91-1583d0e2c8e8",
   "metadata": {},
   "source": [
    "## Data Science Languages\n",
    "\n",
    "Some of the popular languages used by Data Scientists include:\n",
    "\n",
    "- Python  \n",
    "- R  \n",
    "- SQL  \n",
    "- Julia  \n",
    "- Scala  \n",
    "- Java  \n",
    "- C++  \n",
    "- Go  \n",
    "- Ruby  \n",
    "- Visual Basic  \n",
    "- Javascript  \n",
    "- Php  "
   ]
  },
  {
   "cell_type": "code",
   "execution_count": null,
   "id": "4cd3c0c9-48c7-4bd1-aa03-7612ff94c666",
   "metadata": {},
   "outputs": [],
   "source": []
  },
  {
   "cell_type": "markdown",
   "id": "bbc91467-cf2b-4865-b793-0b163b3d46fe",
   "metadata": {},
   "source": [
    "## Data Science Libraries\n",
    "\n",
    "Some of the commonly used libraries by Data Scientists include:\n",
    "\n",
    "- Pandas  \n",
    "- NumPy  \n",
    "- Matplotlib  \n",
    "- Seaborn  \n",
    "- Scikit-learn  \n",
    "- TensorFlow  \n",
    "- PyTorch  \n"
   ]
  },
  {
   "cell_type": "code",
   "execution_count": null,
   "id": "31438e43-b9a1-4502-89de-9ad954c17480",
   "metadata": {},
   "outputs": [],
   "source": []
  },
  {
   "cell_type": "markdown",
   "id": "88350ece-3ccb-4fc6-bf96-5dd3e226d4fc",
   "metadata": {},
   "source": [
    "## Data Science Tools\n",
    "\n",
    "| Tool             | Category              |\n",
    "|------------------|-----------------------|\n",
    "| Jupyter Notebook | IDE / Notebook        |\n",
    "| RStudio          | IDE                   |\n",
    "| Apache Spark     | Big Data Processing   |\n",
    "| TensorFlow       | Machine Learning      |\n",
    "| Tableau          | Data Visualization    |\n"
   ]
  },
  {
   "cell_type": "code",
   "execution_count": null,
   "id": "1e5da886-e429-4545-ada7-c2f0e0fc4ade",
   "metadata": {},
   "outputs": [],
   "source": []
  },
  {
   "cell_type": "markdown",
   "id": "55837759-d4b3-432c-b397-e594fa15f31e",
   "metadata": {},
   "source": [
    "## Arithmetic Expression Examples\n",
    "\n",
    "In this section, we will explore simple arithmetic expressions in Python.  \n",
    "These include basic mathematical operations such as addition, subtraction, multiplication, and division.\n"
   ]
  },
  {
   "cell_type": "code",
   "execution_count": null,
   "id": "522676ae-42b0-4e7f-8b26-7d8cca1e616b",
   "metadata": {},
   "outputs": [],
   "source": []
  },
  {
   "cell_type": "code",
   "execution_count": 2,
   "id": "586b0853-acc3-4444-9088-9098fe95674f",
   "metadata": {},
   "outputs": [
    {
     "data": {
      "text/plain": [
       "17"
      ]
     },
     "execution_count": 2,
     "metadata": {},
     "output_type": "execute_result"
    }
   ],
   "source": [
    "# Multiply and add numbers\n",
    "result = (3 * 4) + 5\n",
    "result\n"
   ]
  },
  {
   "cell_type": "code",
   "execution_count": null,
   "id": "a011e83b-aff5-4d80-ab15-1fc07e5df6ff",
   "metadata": {},
   "outputs": [],
   "source": []
  },
  {
   "cell_type": "code",
   "execution_count": 3,
   "id": "d721ace1-2dc4-4c5c-a3fa-c1b7d27f2e4f",
   "metadata": {},
   "outputs": [
    {
     "data": {
      "text/plain": [
       "3.3333333333333335"
      ]
     },
     "execution_count": 3,
     "metadata": {},
     "output_type": "execute_result"
    }
   ],
   "source": [
    "# Convert minutes to hours\n",
    "minutes = 200\n",
    "hours = minutes / 60\n",
    "hours\n"
   ]
  },
  {
   "cell_type": "code",
   "execution_count": null,
   "id": "e6c0ce8e-16b8-4a95-8d43-079f9e78fcde",
   "metadata": {},
   "outputs": [],
   "source": []
  },
  {
   "cell_type": "markdown",
   "id": "d109ccec-f335-4ffd-a3c8-167ce09ef241",
   "metadata": {},
   "source": [
    "## Objectives\n",
    "\n",
    "The objectives of this notebook are to:\n",
    "\n",
    "- List popular languages used in Data Science  \n",
    "- Identify commonly used libraries in Data Science  \n",
    "- Create a table of Data Science tools  \n",
    "- Demonstrate basic arithmetic expressions in Python  \n",
    "- Convert values (minutes to hours) using Python code  \n"
   ]
  },
  {
   "cell_type": "code",
   "execution_count": null,
   "id": "bcab72e4-a3e0-4b6d-a64d-05bc882274f8",
   "metadata": {},
   "outputs": [],
   "source": []
  },
  {
   "cell_type": "markdown",
   "id": "f3d56a99-2c6c-4ba8-ac94-8b89d544c4c2",
   "metadata": {},
   "source": [
    "## Author\n",
    "\n",
    "**Name:** Muhammad Umair Habib\n"
   ]
  }
 ],
 "metadata": {
  "kernelspec": {
   "display_name": "Python 3 (ipykernel)",
   "language": "python",
   "name": "python3"
  },
  "language_info": {
   "codemirror_mode": {
    "name": "ipython",
    "version": 3
   },
   "file_extension": ".py",
   "mimetype": "text/x-python",
   "name": "python",
   "nbconvert_exporter": "python",
   "pygments_lexer": "ipython3",
   "version": "3.11.9"
  }
 },
 "nbformat": 4,
 "nbformat_minor": 5
}
