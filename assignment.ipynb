{
 "cells": [
  {
   "cell_type": "raw",
   "id": "1483a011-8cc9-42f4-bdf5-33dee89f3748",
   "metadata": {},
   "source": [
    "Create a markdown cell with the title of the notebook"
   ]
  },
  {
   "cell_type": "markdown",
   "id": "fc1343fb-f13e-41a9-ae7d-6344806c74b2",
   "metadata": {},
   "source": [
    "Peer-Graded Assignment"
   ]
  },
  {
   "cell_type": "code",
   "execution_count": null,
   "id": "1958182c-ad38-4248-b076-cd0e614e3432",
   "metadata": {},
   "outputs": [],
   "source": []
  },
  {
   "cell_type": "raw",
   "id": "6a48f8d5-ce7c-419f-8a69-fdf52997a248",
   "metadata": {},
   "source": [
    "Create a markdown cell for the introduction"
   ]
  },
  {
   "cell_type": "markdown",
   "id": "e96aa08c-d34c-41d7-9a4d-e36b3593d686",
   "metadata": {},
   "source": [
    "Introduction"
   ]
  },
  {
   "cell_type": "code",
   "execution_count": null,
   "id": "dfc3d286-d11c-4530-8a70-580e1f69719a",
   "metadata": {},
   "outputs": [],
   "source": []
  },
  {
   "cell_type": "raw",
   "id": "01c00fb0-f634-4693-9ac9-406634717fc4",
   "metadata": {},
   "source": [
    "Create a markdown cell to list data science languages"
   ]
  },
  {
   "cell_type": "markdown",
   "id": "139c5bf6-5fb2-4429-95e1-ec7a850b0da5",
   "metadata": {},
   "source": [
    "Python, R, SQL, Java, Scala, C++, Julia, Javascript, Ruby, Visual Basic, Go, Php"
   ]
  },
  {
   "cell_type": "code",
   "execution_count": null,
   "id": "b9e797c8-3f2e-4d66-848b-c6fd30dd56a3",
   "metadata": {},
   "outputs": [],
   "source": []
  },
  {
   "cell_type": "raw",
   "id": "d3aa6011-d1a5-4791-92b0-fc7706a7743b",
   "metadata": {},
   "source": [
    "Create a markdown cell to list all data science libraries"
   ]
  },
  {
   "cell_type": "markdown",
   "id": "65552bf9-b622-4c9f-9c8b-ef0164beedb5",
   "metadata": {},
   "source": [
    "Scientific Computing Libraries, Vistualization Libraries, High Level Machine Learning and Deep Learning Libraries"
   ]
  },
  {
   "cell_type": "code",
   "execution_count": null,
   "id": "9db9614d-30c6-4322-9ca1-ece87419610a",
   "metadata": {},
   "outputs": [],
   "source": []
  },
  {
   "cell_type": "raw",
   "id": "1e906dd2-c898-4189-a127-64c0cf8bdff6",
   "metadata": {},
   "source": [
    "Data science tools"
   ]
  },
  {
   "cell_type": "markdown",
   "id": "68b9330b-06f9-404c-9536-9e493294c27a",
   "metadata": {},
   "source": [
    "Data Management, Data Integratin and Transformation, Data Vistualization, Model Buulding, Model Deployment, Model Training and Assesement."
   ]
  },
  {
   "cell_type": "code",
   "execution_count": null,
   "id": "65d11a62-1e3b-48c1-b81a-c6662bdce030",
   "metadata": {},
   "outputs": [],
   "source": []
  },
  {
   "cell_type": "raw",
   "id": "b32ec782-6683-450e-b132-2c03de922a1a",
   "metadata": {},
   "source": [
    "Arithmetic Expression"
   ]
  },
  {
   "cell_type": "markdown",
   "id": "427f999b-26a3-4270-aa64-448e063bec2a",
   "metadata": {},
   "source": [
    "x = a + b, \n",
    "x = a - b, \n",
    "x = a * b, \n",
    "x = a / b"
   ]
  },
  {
   "cell_type": "code",
   "execution_count": null,
   "id": "cdf04540-8e45-49db-8099-54dcd806e999",
   "metadata": {},
   "outputs": [],
   "source": []
  },
  {
   "cell_type": "raw",
   "id": "a8da4fff-1e51-4189-9864-ba2a5aa745d1",
   "metadata": {},
   "source": [
    "Multiply and Add Numbers"
   ]
  },
  {
   "cell_type": "code",
   "execution_count": 3,
   "id": "904a7213-3028-4476-93a7-07068fc4159c",
   "metadata": {},
   "outputs": [
    {
     "name": "stdout",
     "output_type": "stream",
     "text": [
      "5\n",
      "6\n"
     ]
    }
   ],
   "source": [
    "add = 2 + 3\n",
    "print(add)\n",
    "\n",
    "mul = 2 * 3\n",
    "print(mul)"
   ]
  },
  {
   "cell_type": "code",
   "execution_count": null,
   "id": "8b5a70c7-b513-4d2a-bd4c-fbd920ceb593",
   "metadata": {},
   "outputs": [],
   "source": []
  },
  {
   "cell_type": "raw",
   "id": "ea3053c9-bdac-496f-a085-12d21170a93b",
   "metadata": {},
   "source": [
    "Convert Minutes into Hours"
   ]
  },
  {
   "cell_type": "code",
   "execution_count": 5,
   "id": "6cd244fa-17f6-4a52-b015-285988eb0653",
   "metadata": {},
   "outputs": [
    {
     "name": "stdout",
     "output_type": "stream",
     "text": [
      "0.5\n"
     ]
    }
   ],
   "source": [
    "minutes = 30\n",
    "hour = minutes/60\n",
    "\n",
    "print(hour)"
   ]
  },
  {
   "cell_type": "code",
   "execution_count": null,
   "id": "f6f4a63e-02d7-462e-8701-2572ebc78005",
   "metadata": {},
   "outputs": [],
   "source": []
  },
  {
   "cell_type": "raw",
   "id": "166c3a42-f394-4a68-a4b7-b524b4716efd",
   "metadata": {},
   "source": [
    "List Objjectives"
   ]
  },
  {
   "cell_type": "markdown",
   "id": "4041c60d-c835-4ca9-9912-4296d1d8ca10",
   "metadata": {},
   "source": [
    "Understand the dataset structure, Clean and preprocess the data, Perform exploratory data analysis, Create vistualiztions to identify patterns, apply basic machine learning algorithms, summarize findings and insights"
   ]
  },
  {
   "cell_type": "code",
   "execution_count": null,
   "id": "a666f911-378b-497e-9804-79af3cd848e4",
   "metadata": {},
   "outputs": [],
   "source": []
  },
  {
   "cell_type": "raw",
   "id": "fc664321-8fcb-41cd-a3e4-59e87413eeba",
   "metadata": {},
   "source": [
    "Auther's Name"
   ]
  },
  {
   "cell_type": "markdown",
   "id": "0c2d5938-f390-4c55-8597-7fb7baad05b5",
   "metadata": {},
   "source": [
    "Muhammad Umair Habib"
   ]
  }
 ],
 "metadata": {
  "kernelspec": {
   "display_name": "Python 3 (ipykernel)",
   "language": "python",
   "name": "python3"
  },
  "language_info": {
   "codemirror_mode": {
    "name": "ipython",
    "version": 3
   },
   "file_extension": ".py",
   "mimetype": "text/x-python",
   "name": "python",
   "nbconvert_exporter": "python",
   "pygments_lexer": "ipython3",
   "version": "3.12.3"
  }
 },
 "nbformat": 4,
 "nbformat_minor": 5
}
